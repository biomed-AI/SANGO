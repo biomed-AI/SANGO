{
 "cells": [
  {
   "cell_type": "code",
   "execution_count": 1,
   "id": "54d366a5",
   "metadata": {},
   "outputs": [],
   "source": [
    "import scanpy as sc\n",
    "import pandas as pd\n",
    "from scipy.sparse import csr_matrix\n",
    "from scipy import sparse\n",
    "import scipy.io\n",
    "import os\n",
    "import anndata as ad # Anndata version must > 0.8\n",
    "import numpy as np\n",
    "import matplotlib.pyplot as plt\n",
    "import seaborn as sns\n",
    "sns.set_theme(style='white')\n",
    "from utils_unknown import *\n",
    "import warnings\n",
    "warnings.filterwarnings('ignore')"
   ]
  },
  {
   "cell_type": "markdown",
   "id": "dec41914",
   "metadata": {},
   "source": [
    "## Identifying tumor cell types (unknown cell types):  using the Healthy Adult Human Large Atlas (HHLA) to annotate BCC tumor sample data."
   ]
  },
  {
   "cell_type": "code",
   "execution_count": 2,
   "id": "de18bc2b",
   "metadata": {},
   "outputs": [],
   "source": [
    "output_name = \"BCC_samples\"\n",
    "out_dir = os.path.join(\"case_study\", output_name)\n",
    "\n",
    "reference_data_path = \"data/Reference/HHLA_atlas.h5ad\"\n",
    "reference_data = load_reference_data(reference_data_path)\n",
    "SU007_Total_Post = import_query_data(path = 'data/BCC_samples/SU007_Total_Post_vHealthyAdult',\n",
    "                                    mtx_file = 'matrix.mtx.gz',\n",
    "                                    cells_file = 'barcodes.tsv.gz',\n",
    "                                    features_file = 'features.tsv.gz',\n",
    "                                    variable_prefix = \"SU007_Total_Post\",\n",
    "                                    celltype_col = \"celltypes\",\n",
    "                                    add_metrics=False)\n",
    "SU010_Total_Pre = import_query_data(path = 'data/BCC_samples/SU010_Total_Pre_vHealthyAdult',\n",
    "                                    mtx_file = 'matrix.mtx.gz',\n",
    "                                    cells_file = 'barcodes.tsv',\n",
    "                                    features_file = 'features.tsv.gz',\n",
    "                                    variable_prefix = \"SU010_Total_Pre\",\n",
    "                                    celltype_col = \"celltypes\",\n",
    "                                    add_metrics=False)\n",
    "\n",
    "assert reference_data.var.shape[0] == SU010_Total_Pre.var.shape[0]\n",
    "assert reference_data.var.shape[0] == SU007_Total_Post.var.shape[0]"
   ]
  },
  {
   "cell_type": "code",
   "execution_count": 3,
   "id": "8f38a3e4",
   "metadata": {},
   "outputs": [],
   "source": [
    "reference_data.obs[\"CellType\"] = reference_data.obs[\"celltypes\"].values\n",
    "\n",
    "concat_adata = sc.AnnData.concatenate(reference_data, SU010_Total_Pre)\n",
    "concat_adata = sc.AnnData.concatenate(concat_adata, SU007_Total_Post)\n",
    "\n",
    "Batch = [\"reference\"]*reference_data.shape[0] \\\n",
    "        + [\"SU010_Total_Pre\"]*SU010_Total_Pre.shape[0] \\\n",
    "        + [\"SU007_Total_Post\"] * SU007_Total_Post.shape[0] \\\n",
    "        \n",
    "concat_adata.obs[\"Batch\"] = Batch"
   ]
  },
  {
   "cell_type": "code",
   "execution_count": 4,
   "id": "32b4261c",
   "metadata": {},
   "outputs": [],
   "source": [
    "peaks = concat_adata.var_names.values\n",
    "\n",
    "chrom = [i.split(\":\")[0] for i in peaks]\n",
    "start = [i.split(\":\")[1].split(\"-\")[0] for i in peaks]\n",
    "end = [i.split(\":\")[1].split(\"-\")[1] for i in peaks]\n",
    "\n",
    "concat_adata = make_anndata(\n",
    "    adata = concat_adata, \n",
    "    chrom = chrom, \n",
    "    start = start, \n",
    "    end = end, \n",
    "    path = \"preprocess_data/BCC_1.h5ad\"\n",
    ")"
   ]
  },
  {
   "cell_type": "markdown",
   "id": "622bc176",
   "metadata": {},
   "source": [
    "Run CACNN"
   ]
  },
  {
   "cell_type": "code",
   "execution_count": 5,
   "id": "ef0c21fb",
   "metadata": {},
   "outputs": [],
   "source": [
    "!python SANGO/CACNN/main.py -i ../../preprocessed_data/BCC_1.h5ad \\\n",
    "                -g hg38 \\\n",
    "                -o ../../output/BCC_1"
   ]
  },
  {
   "cell_type": "markdown",
   "id": "9ff7ab2c",
   "metadata": {},
   "source": [
    "Run GraphTransformer"
   ]
  },
  {
   "cell_type": "code",
   "execution_count": 6,
   "id": "b2145b02",
   "metadata": {},
   "outputs": [],
   "source": [
    "!python SANGO/GraphTransformer/main.py --data_dir output/BCC_1/CACNN_output.h5ad \\\n",
    "                --train_name_list reference --test_name SU010_Total_Pre SU007_Total_Post \\\n",
    "                --save_path output \\\n",
    "                --save_name BCC_1"
   ]
  },
  {
   "cell_type": "markdown",
   "id": "a76dcbd3",
   "metadata": {},
   "source": [
    "**Note**:After the completion of GraphTransformer training, the representations of all cells are saved to the embedding.h5ad file, and the relationships between cells are saved to the weight.npy file. These files are stored in the folder named BCC_1."
   ]
  },
  {
   "cell_type": "markdown",
   "id": "2ff4abcc",
   "metadata": {},
   "source": [
    "We first create a dictionary of reference and query datasets"
   ]
  },
  {
   "cell_type": "code",
   "execution_count": 7,
   "id": "9abb9df3",
   "metadata": {},
   "outputs": [
    {
     "name": "stdout",
     "output_type": "stream",
     "text": [
      "total number of query cells: 1737\n"
     ]
    }
   ],
   "source": [
    "data_list = [SU007_Total_Post, SU010_Total_Pre]\n",
    "print(\"total number of query cells: {}\".format(np.sum([i.obs.shape[0] for i in data_list])))"
   ]
  },
  {
   "cell_type": "markdown",
   "id": "7890233a",
   "metadata": {},
   "source": [
    "select features of datasets"
   ]
  },
  {
   "cell_type": "code",
   "execution_count": 8,
   "id": "8f3673ad",
   "metadata": {},
   "outputs": [
    {
     "data": {
      "text/plain": [
       "{'Atlas': AnnData object with n_obs × n_vars = 100158 × 890130\n",
       "     obs: 'celltypes', 'tissue', 'dataset'\n",
       "     var: 'selected'\n",
       "     uns: 'cell type_colors', 'major cell type_colors', 'spectral_eigenvalue', 'tissue_colors'\n",
       "     obsm: 'X_umap',\n",
       " 'SU007_Total_Post': AnnData object with n_obs × n_vars = 666 × 890130\n",
       "     obs: 'celltypes', 'tissue', 'dataset'\n",
       "     var: 'selected',\n",
       " 'SU010_Total_Pre': AnnData object with n_obs × n_vars = 1071 × 890130\n",
       "     obs: 'celltypes', 'tissue', 'dataset'\n",
       "     var: 'selected'}"
      ]
     },
     "execution_count": 8,
     "metadata": {},
     "output_type": "execute_result"
    }
   ],
   "source": [
    "select_features(reference_data)\n",
    "for anndata in data_list:\n",
    "    select_features(anndata)\n",
    "\n",
    "datasets={}\n",
    "datasets[\"Atlas\"] = reference_data\n",
    "for anndata in data_list:\n",
    "    key = (anndata.obs[\"dataset\"])[0]\n",
    "    datasets[key] = anndata\n",
    "datasets"
   ]
  },
  {
   "cell_type": "code",
   "execution_count": 9,
   "id": "d7c7ada5",
   "metadata": {},
   "outputs": [],
   "source": [
    "adata = sc.read_h5ad(\"output/BCC_1/embedding.h5ad\")\n",
    "\n",
    "datasets[\"Atlas\"].obs[\"pred_GraphTransformer\"] = adata[adata.obs[\"Batch\"] == \"reference\"].obs[\"Pred\"].values\n",
    "datasets[\"SU010_Total_Pre\"].obs[\"pred_GraphTransformer\"] = adata[adata.obs[\"Batch\"] == \"SU010_Total_Pre\"].obs[\"Pred\"].values\n",
    "datasets[\"SU007_Total_Post\"].obs[\"pred_GraphTransformer\"] = adata[adata.obs[\"Batch\"] == \"SU007_Total_Post\"].obs[\"Pred\"].values\n",
    "\n",
    "datasets[\"Atlas\"].obsm[\"X\"] = adata[adata.obs[\"Batch\"] == \"reference\"].X\n",
    "datasets[\"SU010_Total_Pre\"].obsm[\"X\"] = adata[adata.obs[\"Batch\"] == \"SU010_Total_Pre\"].X\n",
    "datasets[\"SU007_Total_Post\"].obsm[\"X\"] = adata[adata.obs[\"Batch\"] == \"SU007_Total_Post\"].X\n",
    "\n",
    "integrated_adata = sc.AnnData.concatenate(datasets[\"Atlas\"], datasets[\"SU010_Total_Pre\"])\n",
    "integrated_adata = sc.AnnData.concatenate(integrated_adata, datasets[\"SU007_Total_Post\"])"
   ]
  },
  {
   "cell_type": "code",
   "execution_count": 10,
   "id": "519dcc2a",
   "metadata": {},
   "outputs": [],
   "source": [
    "# Plot UMAP using spectral embeddings\n",
    "integrated_adata = get_umap(integrated_adata, out_dir, use_rep = \"X\", save = False)"
   ]
  },
  {
   "cell_type": "code",
   "execution_count": 11,
   "id": "7778f2c0",
   "metadata": {},
   "outputs": [],
   "source": [
    "reference = integrated_adata[integrated_adata.obs['dataset'] == \"reference\",:].copy()\n",
    "reference.obs[\"celltypes\"] =  curate_celltype_names(reference.obs[\"celltypes\"], atlas = \"HealthyAdult\")"
   ]
  },
  {
   "cell_type": "code",
   "execution_count": 12,
   "id": "444928b2",
   "metadata": {},
   "outputs": [],
   "source": [
    "query = integrated_adata[integrated_adata.obs['dataset'] != \"reference\",:].copy()\n",
    "query.obs_names = [j+\"#\"+i+\"_\"+j for i,j in zip(SU010_Total_Pre.obs_names.values, SU010_Total_Pre.obs[\"dataset\"].values)] \\\n",
    "                    + [j+\"#\"+i+\"_\"+j for i,j in zip(SU007_Total_Post.obs_names.values, SU007_Total_Post.obs[\"dataset\"].values)]"
   ]
  },
  {
   "cell_type": "markdown",
   "id": "f0d65348",
   "metadata": {},
   "source": [
    "Obtain UMAP coordinates and clusters provided by the original publication. Then Query cells are clustered and annotated at the cluster-level"
   ]
  },
  {
   "cell_type": "code",
   "execution_count": 13,
   "id": "955f6db2",
   "metadata": {},
   "outputs": [],
   "source": [
    "projection_allcells = pd.read_table(\"data/BCC_samples/BCC_study_metadata.csv\", index_col = 0, sep = \",\")\n",
    "projection_allcells.index = [projection_allcells.loc[i,\"Group\"] + \"#\" + i for i in projection_allcells.index]\n",
    "sample_names = [\"SU010_Total_Pre\", \"SU007_Total_Post\"]\n",
    "projection = projection_allcells[projection_allcells[\"Group\"].isin(sample_names)]\n",
    "query.obs = pd.merge(query.obs, projection, left_index=True, right_index=True)"
   ]
  },
  {
   "cell_type": "markdown",
   "id": "53a5937a",
   "metadata": {},
   "source": [
    "We utilized the attention weights between cells, saved in the 'weight.npy' file obtained from GraphTransformer, to compute the uncertainty score for each cell in the query data."
   ]
  },
  {
   "cell_type": "code",
   "execution_count": 14,
   "id": "eb9ca41e",
   "metadata": {},
   "outputs": [
    {
     "data": {
      "text/plain": [
       "AnnData object with n_obs × n_vars = 1737 × 890130\n",
       "    obs: 'celltypes', 'tissue', 'dataset', 'pred_GraphTransformer', 'batch', 'UMAP_1', 'UMAP_2', 'Clusters', 'Group', 'depth', 'FRIP', 'Barcodes', 'Internal_Name', 'Group_Barcode', 'true_label', 'uncertainty_score_step1', 'pred_y'\n",
       "    var: 'selected-0-0', 'selected-1-0', 'selected-1'\n",
       "    obsm: 'X', 'X_umap', 'kernel_distance', 'distance', 'indices', 'neighbors_labels'"
      ]
     },
     "execution_count": 14,
     "metadata": {},
     "output_type": "execute_result"
    }
   ],
   "source": [
    "weight_path = \"output/BCC_1/weight.npy\"\n",
    "get_uncertainty_score_step1(query, reference, weight_path)"
   ]
  },
  {
   "cell_type": "markdown",
   "id": "76d04b3b",
   "metadata": {},
   "source": [
    "We then project query cells into the same UMAP coordinates as original publication for better comparisons, and perform cluster-level assignment."
   ]
  },
  {
   "cell_type": "code",
   "execution_count": 15,
   "id": "e30e42bf",
   "metadata": {},
   "outputs": [],
   "source": [
    "query.obsm[\"X_umap\"] = np.array(query.obs[[\"UMAP_1\", \"UMAP_2\"]])\n",
    "\n",
    "uncertainty_threshold = 0.2\n",
    "pred_y_unknown = np.array(query.obs[\"pred_y\"].values)\n",
    "uncertainty_score = np.array(query.obs[\"uncertainty_score_step1\"].values)\n",
    "pred_y_unknown[uncertainty_score > uncertainty_threshold] = \"unknown\"\n",
    "query.obs[\"pred_y_unknown\"] = pred_y_unknown\n",
    "\n",
    "query_annotated = cluster_assign(query, use_rep = \"X\", cluster_col = \"Clusters\", UMAP=False)"
   ]
  },
  {
   "cell_type": "code",
   "execution_count": 16,
   "id": "5db95cfd",
   "metadata": {},
   "outputs": [
    {
     "data": {
      "text/plain": [
       "<Figure size 7200x4800 with 0 Axes>"
      ]
     },
     "metadata": {},
     "output_type": "display_data"
    },
    {
     "data": {
      "image/png": "[encoded data removed]",
      "text/plain": [
       "<Figure size 1483.92x288 with 4 Axes>"
      ]
     },
     "metadata": {
      "needs_background": "light"
     },
     "output_type": "display_data"
    }
   ],
   "source": [
    "plt.figure(dpi=1200)\n",
    "sc.pl.umap(query_annotated, \n",
    "           color = ['true_label', \"cluster_annotation\", 'uncertainty_score_step1'], \n",
    "           title=[\"\", \"\", \"\"], \n",
    "           legend_loc = \"on data\", \n",
    ")"
   ]
  },
  {
   "cell_type": "code",
   "execution_count": 17,
   "id": "aaa2e6f7",
   "metadata": {},
   "outputs": [
    {
     "data": {
      "text/plain": [
       "<Figure size 7200x4800 with 0 Axes>"
      ]
     },
     "metadata": {},
     "output_type": "display_data"
    },
    {
     "data": {
      "image/png": "[encoded data removed]",
      "text/plain": [
       "<Figure size 432x432 with 1 Axes>"
      ]
     },
     "metadata": {
      "needs_background": "light"
     },
     "output_type": "display_data"
    }
   ],
   "source": [
    "from pySankey.sankey import sankey\n",
    "\n",
    "pred_col = 'cluster_annotation'\n",
    "true_col = 'true_label'\n",
    "\n",
    "plt.rcParams['font.weight'] = \"heavy\"\n",
    "plt.figure(dpi=1200)\n",
    "\n",
    "sankey(\n",
    "    query_annotated.obs[pred_col], query_annotated.obs[true_col], aspect=10,\n",
    "    fontsize=10, leftLabels=[\"unknown\", \"Mural\", \"Endothelial\", \"Immune Cells\"],\n",
    "    rightLabels=['Tumor', 'Fibroblasts', 'Endothelial',\n",
    "                 'B', 'CD8 TEx', 'Effector CD8 T',\n",
    "                 'Memory CD8 T', 'Myeloid', 'NK1', 'NK2', 'Naive CD4 T',\n",
    "                 'Naive CD8 T', 'Plasma B', 'Tfh', 'Th1', 'Th17', 'Treg']\n",
    "    )"
   ]
  },
  {
   "cell_type": "code",
   "execution_count": 18,
   "id": "4141ed2f",
   "metadata": {},
   "outputs": [
    {
     "name": "stdout",
     "output_type": "stream",
     "text": [
      "                                                   0\n",
      "0  SU010_Total_Pre#SU010_Total_Pre#TACTGCCAGTTGAA...\n",
      "1  SU010_Total_Pre#SU010_Total_Pre#AGCGATTAGAACTA...\n",
      "2  SU010_Total_Pre#SU010_Total_Pre#GCCCGAAAGGCACC...\n",
      "3  SU010_Total_Pre#SU010_Total_Pre#TCTCAGCCAGTTGG...\n",
      "4  SU010_Total_Pre#SU010_Total_Pre#TATGTGGGTGAGGG...\n"
     ]
    }
   ],
   "source": [
    "immune_cells = pd.DataFrame(query_annotated[query_annotated.obs[\"cluster_annotation\"] == \"Immune Cells\"].obs.index)\n",
    "print(immune_cells.head())"
   ]
  },
  {
   "cell_type": "markdown",
   "id": "ff15b46e",
   "metadata": {},
   "source": [
    "## Identifying subtypes:  using BCC_TIL_atlas to annotate BCC immune subtype cells"
   ]
  },
  {
   "cell_type": "code",
   "execution_count": 19,
   "id": "ec85969f",
   "metadata": {},
   "outputs": [],
   "source": [
    "reference_data_path = \"data/Reference/BCC_TIL_atlas.h5ad\"\n",
    "reference_data = load_reference_data(reference_data_path)\n",
    "SU007_Total_Post = import_query_data(path = 'data/BCC_samples/SU007_Total_Post_vBCC',\n",
    "                                    mtx_file = 'matrix.mtx.gz',\n",
    "                                    cells_file = 'barcodes.tsv.gz',\n",
    "                                    features_file = 'features.tsv.gz',\n",
    "                                    variable_prefix = \"SU007_Total_Post\",\n",
    "                                    celltype_col = \"celltypes\",\n",
    "                                    add_metrics=False)\n",
    "SU010_Total_Pre = import_query_data(path = 'data/BCC_samples/SU010_Total_Pre_vBCC',\n",
    "                                    mtx_file = 'matrix.mtx.gz',\n",
    "                                    cells_file = 'barcodes.tsv',\n",
    "                                    features_file = 'features.tsv.gz',\n",
    "                                    variable_prefix = \"SU010_Total_Pre\",\n",
    "                                    celltype_col = \"celltypes\",\n",
    "                                    add_metrics=False)"
   ]
  },
  {
   "cell_type": "code",
   "execution_count": 20,
   "id": "0487470f",
   "metadata": {},
   "outputs": [
    {
     "name": "stdout",
     "output_type": "stream",
     "text": [
      "Total number of query cells: 1737\n"
     ]
    },
    {
     "data": {
      "text/plain": [
       "[View of AnnData object with n_obs × n_vars = 666 × 344492\n",
       "     obs: 'celltypes', 'tissue', 'dataset',\n",
       " View of AnnData object with n_obs × n_vars = 1071 × 344492\n",
       "     obs: 'celltypes', 'tissue', 'dataset']"
      ]
     },
     "execution_count": 20,
     "metadata": {},
     "output_type": "execute_result"
    }
   ],
   "source": [
    "data_list = [SU007_Total_Post, SU010_Total_Pre]\n",
    "print(\"Total number of query cells: {}\".format(np.sum([i.obs.shape[0] for i in data_list])))\n",
    "data_list"
   ]
  },
  {
   "cell_type": "code",
   "execution_count": 21,
   "id": "fa84e530",
   "metadata": {},
   "outputs": [
    {
     "data": {
      "text/html": [
       "<div>\n",
       "<style scoped>\n",
       "    .dataframe tbody tr th:only-of-type {\n",
       "        vertical-align: middle;\n",
       "    }\n",
       "\n",
       "    .dataframe tbody tr th {\n",
       "        vertical-align: top;\n",
       "    }\n",
       "\n",
       "    .dataframe thead th {\n",
       "        text-align: right;\n",
       "    }\n",
       "</style>\n",
       "<table border=\"1\" class=\"dataframe\">\n",
       "  <thead>\n",
       "    <tr style=\"text-align: right;\">\n",
       "      <th></th>\n",
       "      <th>0</th>\n",
       "    </tr>\n",
       "  </thead>\n",
       "  <tbody>\n",
       "    <tr>\n",
       "      <th>SU010_Total_Pre#TACTGCCAGTTGAATG-1</th>\n",
       "      <td>SU010_Total_Pre#SU010_Total_Pre#TACTGCCAGTTGAA...</td>\n",
       "    </tr>\n",
       "    <tr>\n",
       "      <th>SU010_Total_Pre#AGCGATTAGAACTAAC-1</th>\n",
       "      <td>SU010_Total_Pre#SU010_Total_Pre#AGCGATTAGAACTA...</td>\n",
       "    </tr>\n",
       "    <tr>\n",
       "      <th>SU010_Total_Pre#GCCCGAAAGGCACCTC-1</th>\n",
       "      <td>SU010_Total_Pre#SU010_Total_Pre#GCCCGAAAGGCACC...</td>\n",
       "    </tr>\n",
       "    <tr>\n",
       "      <th>SU010_Total_Pre#TCTCAGCCAGTTGGAG-1</th>\n",
       "      <td>SU010_Total_Pre#SU010_Total_Pre#TCTCAGCCAGTTGG...</td>\n",
       "    </tr>\n",
       "    <tr>\n",
       "      <th>SU010_Total_Pre#TATGTGGGTGAGGGTT-1</th>\n",
       "      <td>SU010_Total_Pre#SU010_Total_Pre#TATGTGGGTGAGGG...</td>\n",
       "    </tr>\n",
       "  </tbody>\n",
       "</table>\n",
       "</div>"
      ],
      "text/plain": [
       "                                                                                    0\n",
       "SU010_Total_Pre#TACTGCCAGTTGAATG-1  SU010_Total_Pre#SU010_Total_Pre#TACTGCCAGTTGAA...\n",
       "SU010_Total_Pre#AGCGATTAGAACTAAC-1  SU010_Total_Pre#SU010_Total_Pre#AGCGATTAGAACTA...\n",
       "SU010_Total_Pre#GCCCGAAAGGCACCTC-1  SU010_Total_Pre#SU010_Total_Pre#GCCCGAAAGGCACC...\n",
       "SU010_Total_Pre#TCTCAGCCAGTTGGAG-1  SU010_Total_Pre#SU010_Total_Pre#TCTCAGCCAGTTGG...\n",
       "SU010_Total_Pre#TATGTGGGTGAGGGTT-1  SU010_Total_Pre#SU010_Total_Pre#TATGTGGGTGAGGG..."
      ]
     },
     "execution_count": 21,
     "metadata": {},
     "output_type": "execute_result"
    }
   ],
   "source": [
    "immune_cells.index = immune_cells[0]\n",
    "immune_cells.index = [i.split(\"_SU\")[0] for i in immune_cells.index]\n",
    "immune_cells.index = [i.split(\"#\")[1] + \"#\" + i.split(\"#\")[2] for i in immune_cells.index]\n",
    "immune_cells.head()"
   ]
  },
  {
   "cell_type": "code",
   "execution_count": 22,
   "id": "0ad2a7d5",
   "metadata": {},
   "outputs": [
    {
     "name": "stdout",
     "output_type": "stream",
     "text": [
      "SU007_Total_Post\n",
      "View of AnnData object with n_obs × n_vars = 618 × 344492\n",
      "    obs: 'celltypes', 'tissue', 'dataset'\n",
      "SU010_Total_Pre\n",
      "View of AnnData object with n_obs × n_vars = 188 × 344492\n",
      "    obs: 'celltypes', 'tissue', 'dataset'\n",
      "Total immune cells: 806\n"
     ]
    }
   ],
   "source": [
    "data_list_use = data_list.copy()\n",
    "for i in range(len(data_list_use)):\n",
    "    print(data_list_use[i].obs[\"dataset\"][0])\n",
    "    data_list_use[i] = data_list_use[i][data_list_use[i].obs.index.isin(immune_cells.index)]\n",
    "    print(data_list_use[i])\n",
    "\n",
    "print(\"Total immune cells: {}\".format(np.sum([i.obs.shape[0] for i in data_list_use])))"
   ]
  },
  {
   "cell_type": "code",
   "execution_count": 23,
   "id": "762a6bc4",
   "metadata": {},
   "outputs": [],
   "source": [
    "reference_data.obs[\"CellType\"] = reference_data.obs[\"celltypes\"].values"
   ]
  },
  {
   "cell_type": "code",
   "execution_count": 24,
   "id": "7f0c4fd9",
   "metadata": {},
   "outputs": [],
   "source": [
    "concat_adata = sc.AnnData.concatenate(reference_data, data_list_use[1])\n",
    "concat_adata = sc.AnnData.concatenate(concat_adata, data_list_use[0])\n",
    "\n",
    "Batch = [\"reference\"]*reference_data.shape[0] \\\n",
    "        + [\"SU010_Total_Pre\"]*data_list_use[1].shape[0] \\\n",
    "        + [\"SU007_Total_Post\"] * data_list_use[0].shape[0] \\\n",
    "        \n",
    "concat_adata.obs[\"Batch\"] = Batch"
   ]
  },
  {
   "cell_type": "code",
   "execution_count": 25,
   "id": "f2156e28",
   "metadata": {},
   "outputs": [],
   "source": [
    "peaks = concat_adata.var_names.values\n",
    "\n",
    "chrom = [i.split(\":\")[0] for i in peaks]\n",
    "start = [i.split(\":\")[1].split(\"-\")[0] for i in peaks]\n",
    "end = [i.split(\":\")[1].split(\"-\")[1] for i in peaks]\n",
    "\n",
    "concat_adata = make_anndata(\n",
    "    adata = concat_adata, \n",
    "    chrom = chrom, \n",
    "    start = start, \n",
    "    end = end, \n",
    "    path = \"preprocess_data/BCC_2_Cluster.h5ad\"\n",
    ")"
   ]
  },
  {
   "cell_type": "markdown",
   "id": "05650fb5",
   "metadata": {},
   "source": [
    "Run CACNN"
   ]
  },
  {
   "cell_type": "code",
   "execution_count": 26,
   "id": "45d399b6",
   "metadata": {},
   "outputs": [],
   "source": [
    "!python SANGO/CACNN/main.py -i ../../preprocessed_data/BCC_2_Cluster.h5ad \\\n",
    "                -g hg38 \\\n",
    "                -o ../../output/BCC_2"
   ]
  },
  {
   "cell_type": "markdown",
   "id": "ef6ace80",
   "metadata": {},
   "source": [
    "Run GraphTransformer"
   ]
  },
  {
   "cell_type": "code",
   "execution_count": 27,
   "id": "61331c86",
   "metadata": {},
   "outputs": [],
   "source": [
    "!python SANGO/GraphTransformer/main.py --data_dir output/BCC_2/CACNN_output.h5ad \\\n",
    "                --train_name_list reference --test_name SU010_Total_Pre SU007_Total_Post \\\n",
    "                --save_path output \\\n",
    "                --save_name BCC_2"
   ]
  },
  {
   "cell_type": "code",
   "execution_count": 28,
   "id": "ce4043e9",
   "metadata": {},
   "outputs": [
    {
     "data": {
      "text/plain": [
       "{'Atlas': AnnData object with n_obs × n_vars = 22008 × 344492\n",
       "     obs: 'celltypes', 'tissue', 'dataset', 'CellType'\n",
       "     var: 'selected'\n",
       "     uns: 'Group_colors', 'celltypes_colors', 'spectral_eigenvalue', 'true_label_colors'\n",
       "     obsm: 'X_spectral', 'X_umap',\n",
       " 'SU007_Total_Post': AnnData object with n_obs × n_vars = 618 × 344492\n",
       "     obs: 'celltypes', 'tissue', 'dataset'\n",
       "     var: 'selected',\n",
       " 'SU010_Total_Pre': AnnData object with n_obs × n_vars = 188 × 344492\n",
       "     obs: 'celltypes', 'tissue', 'dataset'\n",
       "     var: 'selected'}"
      ]
     },
     "execution_count": 28,
     "metadata": {},
     "output_type": "execute_result"
    }
   ],
   "source": [
    "for anndata in data_list_use:\n",
    "    select_features(anndata)\n",
    "select_features(reference_data)\n",
    "\n",
    "datasets={}\n",
    "datasets[\"Atlas\"] = reference_data\n",
    "for anndata in data_list_use:\n",
    "    key = (anndata.obs[\"dataset\"])[0]\n",
    "    datasets[key] = anndata\n",
    "datasets"
   ]
  },
  {
   "cell_type": "code",
   "execution_count": 29,
   "id": "3aba99e9",
   "metadata": {},
   "outputs": [
    {
     "name": "stdout",
     "output_type": "stream",
     "text": [
      "AnnData object with n_obs × n_vars = 22814 × 344492\n",
      "    obs: 'celltypes', 'tissue', 'dataset', 'CellType', 'pred_GraphTransformer', 'batch'\n",
      "    var: 'selected-0-0', 'selected-1-0', 'selected-1'\n",
      "    obsm: 'X'\n"
     ]
    }
   ],
   "source": [
    "adata = sc.read_h5ad(\"output/BCC_2/embedding.h5ad\")\n",
    "\n",
    "datasets[\"Atlas\"].obs[\"pred_GraphTransformer\"] = adata[adata.obs[\"Batch\"] == \"reference\"].obs[\"Pred\"].values\n",
    "datasets[\"SU010_Total_Pre\"].obs[\"pred_GraphTransformer\"] = adata[adata.obs[\"Batch\"] == \"SU010_Total_Pre\"].obs[\"Pred\"].values\n",
    "datasets[\"SU007_Total_Post\"].obs[\"pred_GraphTransformer\"] = adata[adata.obs[\"Batch\"] == \"SU007_Total_Post\"].obs[\"Pred\"].values\n",
    "\n",
    "datasets[\"Atlas\"].obsm[\"X\"] = adata[adata.obs[\"Batch\"] == \"reference\"].X\n",
    "datasets[\"SU010_Total_Pre\"].obsm[\"X\"] = adata[adata.obs[\"Batch\"] == \"SU010_Total_Pre\"].X\n",
    "datasets[\"SU007_Total_Post\"].obsm[\"X\"] = adata[adata.obs[\"Batch\"] == \"SU007_Total_Post\"].X\n",
    "\n",
    "integrated_adata = sc.AnnData.concatenate(datasets[\"Atlas\"], datasets[\"SU010_Total_Pre\"])\n",
    "integrated_adata = sc.AnnData.concatenate(integrated_adata, datasets[\"SU007_Total_Post\"])\n",
    "print(integrated_adata)"
   ]
  },
  {
   "cell_type": "code",
   "execution_count": 30,
   "id": "d2119758",
   "metadata": {},
   "outputs": [],
   "source": [
    "output_name = \"BCC_samples\"\n",
    "out_dir = os.path.join(\"case_study\", output_name)\n",
    "\n",
    "#Plot UMAP using spectral embeddings\n",
    "integrated_adata = get_umap(integrated_adata, out_dir, use_rep = \"X\", save = False)"
   ]
  },
  {
   "cell_type": "code",
   "execution_count": 31,
   "id": "a44b8998",
   "metadata": {},
   "outputs": [],
   "source": [
    "query = integrated_adata[integrated_adata.obs['dataset'] != \"reference\",:].copy()\n",
    "query.obs_names = [j+\"#\"+i.split(\"-\")[0] + \"-1\" + \"_\" + j for i,j in zip(query.obs_names.values, query.obs[\"dataset\"].values)]"
   ]
  },
  {
   "cell_type": "code",
   "execution_count": 32,
   "id": "b5bb13ba",
   "metadata": {},
   "outputs": [
    {
     "data": {
      "text/html": [
       "<div>\n",
       "<style scoped>\n",
       "    .dataframe tbody tr th:only-of-type {\n",
       "        vertical-align: middle;\n",
       "    }\n",
       "\n",
       "    .dataframe tbody tr th {\n",
       "        vertical-align: top;\n",
       "    }\n",
       "\n",
       "    .dataframe thead th {\n",
       "        text-align: right;\n",
       "    }\n",
       "</style>\n",
       "<table border=\"1\" class=\"dataframe\">\n",
       "  <thead>\n",
       "    <tr style=\"text-align: right;\">\n",
       "      <th></th>\n",
       "      <th>celltypes</th>\n",
       "      <th>tissue</th>\n",
       "      <th>dataset</th>\n",
       "      <th>CellType</th>\n",
       "      <th>pred_GraphTransformer</th>\n",
       "      <th>batch</th>\n",
       "      <th>UMAP_1</th>\n",
       "      <th>UMAP_2</th>\n",
       "      <th>Clusters</th>\n",
       "      <th>Group</th>\n",
       "      <th>depth</th>\n",
       "      <th>FRIP</th>\n",
       "      <th>Barcodes</th>\n",
       "      <th>Internal_Name</th>\n",
       "      <th>Group_Barcode</th>\n",
       "      <th>true_label</th>\n",
       "    </tr>\n",
       "  </thead>\n",
       "  <tbody>\n",
       "    <tr>\n",
       "      <th>SU010_Total_Pre#SU010_Total_Pre#TACTGCCAGTTGAATG-1_SU010_Total_Pre</th>\n",
       "      <td>SU010_Total_Pre</td>\n",
       "      <td>SU010_Total_Pre</td>\n",
       "      <td>SU010_Total_Pre</td>\n",
       "      <td>NaN</td>\n",
       "      <td>Plasma B</td>\n",
       "      <td>0</td>\n",
       "      <td>-3.741690</td>\n",
       "      <td>16.458853</td>\n",
       "      <td>Cluster13</td>\n",
       "      <td>SU010_Total_Pre</td>\n",
       "      <td>22180</td>\n",
       "      <td>0.629306</td>\n",
       "      <td>TACTGCCAGTTGAATG-1</td>\n",
       "      <td>SU010_Total_Pre_824</td>\n",
       "      <td>SU010_Total_Pre#TACTGCCAGTTGAATG-1</td>\n",
       "      <td>Plasma B</td>\n",
       "    </tr>\n",
       "    <tr>\n",
       "      <th>SU010_Total_Pre#SU010_Total_Pre#AGCGATTAGAACTAAC-1_SU010_Total_Pre</th>\n",
       "      <td>SU010_Total_Pre</td>\n",
       "      <td>SU010_Total_Pre</td>\n",
       "      <td>SU010_Total_Pre</td>\n",
       "      <td>NaN</td>\n",
       "      <td>Memory CD8 T</td>\n",
       "      <td>0</td>\n",
       "      <td>-5.042978</td>\n",
       "      <td>3.294526</td>\n",
       "      <td>Cluster7</td>\n",
       "      <td>SU010_Total_Pre</td>\n",
       "      <td>26713</td>\n",
       "      <td>0.645416</td>\n",
       "      <td>AGCGATTAGAACTAAC-1</td>\n",
       "      <td>SU010_Total_Pre_4</td>\n",
       "      <td>SU010_Total_Pre#AGCGATTAGAACTAAC-1</td>\n",
       "      <td>Memory CD8 T</td>\n",
       "    </tr>\n",
       "    <tr>\n",
       "      <th>SU010_Total_Pre#SU010_Total_Pre#GCCCGAAAGGCACCTC-1_SU010_Total_Pre</th>\n",
       "      <td>SU010_Total_Pre</td>\n",
       "      <td>SU010_Total_Pre</td>\n",
       "      <td>SU010_Total_Pre</td>\n",
       "      <td>NaN</td>\n",
       "      <td>Plasma B</td>\n",
       "      <td>0</td>\n",
       "      <td>-3.297045</td>\n",
       "      <td>16.337175</td>\n",
       "      <td>Cluster13</td>\n",
       "      <td>SU010_Total_Pre</td>\n",
       "      <td>12510</td>\n",
       "      <td>0.385012</td>\n",
       "      <td>GCCCGAAAGGCACCTC-1</td>\n",
       "      <td>SU010_Total_Pre_843</td>\n",
       "      <td>SU010_Total_Pre#GCCCGAAAGGCACCTC-1</td>\n",
       "      <td>Plasma B</td>\n",
       "    </tr>\n",
       "    <tr>\n",
       "      <th>SU010_Total_Pre#SU010_Total_Pre#TCTCAGCCAGTTGGAG-1_SU010_Total_Pre</th>\n",
       "      <td>SU010_Total_Pre</td>\n",
       "      <td>SU010_Total_Pre</td>\n",
       "      <td>SU010_Total_Pre</td>\n",
       "      <td>NaN</td>\n",
       "      <td>Memory CD8 T</td>\n",
       "      <td>0</td>\n",
       "      <td>-5.287196</td>\n",
       "      <td>1.745298</td>\n",
       "      <td>Cluster7</td>\n",
       "      <td>SU010_Total_Pre</td>\n",
       "      <td>26865</td>\n",
       "      <td>0.630430</td>\n",
       "      <td>TCTCAGCCAGTTGGAG-1</td>\n",
       "      <td>SU010_Total_Pre_77</td>\n",
       "      <td>SU010_Total_Pre#TCTCAGCCAGTTGGAG-1</td>\n",
       "      <td>Memory CD8 T</td>\n",
       "    </tr>\n",
       "    <tr>\n",
       "      <th>SU010_Total_Pre#SU010_Total_Pre#TATGTGGGTGAGGGTT-1_SU010_Total_Pre</th>\n",
       "      <td>SU010_Total_Pre</td>\n",
       "      <td>SU010_Total_Pre</td>\n",
       "      <td>SU010_Total_Pre</td>\n",
       "      <td>NaN</td>\n",
       "      <td>Th1</td>\n",
       "      <td>0</td>\n",
       "      <td>-4.390906</td>\n",
       "      <td>1.357552</td>\n",
       "      <td>Cluster10</td>\n",
       "      <td>SU010_Total_Pre</td>\n",
       "      <td>14660</td>\n",
       "      <td>0.279775</td>\n",
       "      <td>TATGTGGGTGAGGGTT-1</td>\n",
       "      <td>SU010_Total_Pre_203</td>\n",
       "      <td>SU010_Total_Pre#TATGTGGGTGAGGGTT-1</td>\n",
       "      <td>NK1</td>\n",
       "    </tr>\n",
       "    <tr>\n",
       "      <th>...</th>\n",
       "      <td>...</td>\n",
       "      <td>...</td>\n",
       "      <td>...</td>\n",
       "      <td>...</td>\n",
       "      <td>...</td>\n",
       "      <td>...</td>\n",
       "      <td>...</td>\n",
       "      <td>...</td>\n",
       "      <td>...</td>\n",
       "      <td>...</td>\n",
       "      <td>...</td>\n",
       "      <td>...</td>\n",
       "      <td>...</td>\n",
       "      <td>...</td>\n",
       "      <td>...</td>\n",
       "      <td>...</td>\n",
       "    </tr>\n",
       "    <tr>\n",
       "      <th>SU007_Total_Post#SU007_Total_Post#GCACCTTCACTCGGAC-1_SU007_Total_Post</th>\n",
       "      <td>SU007_Total_Post</td>\n",
       "      <td>SU007_Total_Post</td>\n",
       "      <td>SU007_Total_Post</td>\n",
       "      <td>NaN</td>\n",
       "      <td>Naive CD4 T</td>\n",
       "      <td>1</td>\n",
       "      <td>0.582895</td>\n",
       "      <td>0.034329</td>\n",
       "      <td>Cluster1</td>\n",
       "      <td>SU007_Total_Post</td>\n",
       "      <td>7646</td>\n",
       "      <td>0.669173</td>\n",
       "      <td>GCACCTTCACTCGGAC-1</td>\n",
       "      <td>SU007_Total_Post_657</td>\n",
       "      <td>SU007_Total_Post#GCACCTTCACTCGGAC-1</td>\n",
       "      <td>Naive CD4 T</td>\n",
       "    </tr>\n",
       "    <tr>\n",
       "      <th>SU007_Total_Post#SU007_Total_Post#GCCTACTCATTCACGA-1_SU007_Total_Post</th>\n",
       "      <td>SU007_Total_Post</td>\n",
       "      <td>SU007_Total_Post</td>\n",
       "      <td>SU007_Total_Post</td>\n",
       "      <td>NaN</td>\n",
       "      <td>Naive CD4 T</td>\n",
       "      <td>1</td>\n",
       "      <td>-2.006158</td>\n",
       "      <td>1.166633</td>\n",
       "      <td>Cluster5</td>\n",
       "      <td>SU007_Total_Post</td>\n",
       "      <td>2480</td>\n",
       "      <td>0.653629</td>\n",
       "      <td>GCCTACTCATTCACGA-1</td>\n",
       "      <td>SU007_Total_Post_628</td>\n",
       "      <td>SU007_Total_Post#GCCTACTCATTCACGA-1</td>\n",
       "      <td>Naive CD8 T</td>\n",
       "    </tr>\n",
       "    <tr>\n",
       "      <th>SU007_Total_Post#SU007_Total_Post#AATGGAACAAGGTCGA-1_SU007_Total_Post</th>\n",
       "      <td>SU007_Total_Post</td>\n",
       "      <td>SU007_Total_Post</td>\n",
       "      <td>SU007_Total_Post</td>\n",
       "      <td>NaN</td>\n",
       "      <td>Memory CD8 T</td>\n",
       "      <td>1</td>\n",
       "      <td>-5.390166</td>\n",
       "      <td>1.350978</td>\n",
       "      <td>Cluster7</td>\n",
       "      <td>SU007_Total_Post</td>\n",
       "      <td>4456</td>\n",
       "      <td>0.638241</td>\n",
       "      <td>AATGGAACAAGGTCGA-1</td>\n",
       "      <td>SU007_Total_Post_660</td>\n",
       "      <td>SU007_Total_Post#AATGGAACAAGGTCGA-1</td>\n",
       "      <td>Memory CD8 T</td>\n",
       "    </tr>\n",
       "    <tr>\n",
       "      <th>SU007_Total_Post#SU007_Total_Post#TACCTATAGTACGACG-1_SU007_Total_Post</th>\n",
       "      <td>SU007_Total_Post</td>\n",
       "      <td>SU007_Total_Post</td>\n",
       "      <td>SU007_Total_Post</td>\n",
       "      <td>NaN</td>\n",
       "      <td>Memory CD8 T</td>\n",
       "      <td>1</td>\n",
       "      <td>-4.832208</td>\n",
       "      <td>3.385367</td>\n",
       "      <td>Cluster7</td>\n",
       "      <td>SU007_Total_Post</td>\n",
       "      <td>3617</td>\n",
       "      <td>0.686342</td>\n",
       "      <td>TACCTATAGTACGACG-1</td>\n",
       "      <td>SU007_Total_Post_661</td>\n",
       "      <td>SU007_Total_Post#TACCTATAGTACGACG-1</td>\n",
       "      <td>Memory CD8 T</td>\n",
       "    </tr>\n",
       "    <tr>\n",
       "      <th>SU007_Total_Post#SU007_Total_Post#TTCTGTAAGTACTCTG-1_SU007_Total_Post</th>\n",
       "      <td>SU007_Total_Post</td>\n",
       "      <td>SU007_Total_Post</td>\n",
       "      <td>SU007_Total_Post</td>\n",
       "      <td>NaN</td>\n",
       "      <td>Memory CD8 T</td>\n",
       "      <td>1</td>\n",
       "      <td>-6.236699</td>\n",
       "      <td>4.539843</td>\n",
       "      <td>Cluster7</td>\n",
       "      <td>SU007_Total_Post</td>\n",
       "      <td>2556</td>\n",
       "      <td>0.699531</td>\n",
       "      <td>TTCTGTAAGTACTCTG-1</td>\n",
       "      <td>SU007_Total_Post_666</td>\n",
       "      <td>SU007_Total_Post#TTCTGTAAGTACTCTG-1</td>\n",
       "      <td>Memory CD8 T</td>\n",
       "    </tr>\n",
       "  </tbody>\n",
       "</table>\n",
       "<p>806 rows × 16 columns</p>\n",
       "</div>"
      ],
      "text/plain": [
       "                                                           celltypes  \\\n",
       "SU010_Total_Pre#SU010_Total_Pre#TACTGCCAGTTGAAT...   SU010_Total_Pre   \n",
       "SU010_Total_Pre#SU010_Total_Pre#AGCGATTAGAACTAA...   SU010_Total_Pre   \n",
       "SU010_Total_Pre#SU010_Total_Pre#GCCCGAAAGGCACCT...   SU010_Total_Pre   \n",
       "SU010_Total_Pre#SU010_Total_Pre#TCTCAGCCAGTTGGA...   SU010_Total_Pre   \n",
       "SU010_Total_Pre#SU010_Total_Pre#TATGTGGGTGAGGGT...   SU010_Total_Pre   \n",
       "...                                                              ...   \n",
       "SU007_Total_Post#SU007_Total_Post#GCACCTTCACTCG...  SU007_Total_Post   \n",
       "SU007_Total_Post#SU007_Total_Post#GCCTACTCATTCA...  SU007_Total_Post   \n",
       "SU007_Total_Post#SU007_Total_Post#AATGGAACAAGGT...  SU007_Total_Post   \n",
       "SU007_Total_Post#SU007_Total_Post#TACCTATAGTACG...  SU007_Total_Post   \n",
       "SU007_Total_Post#SU007_Total_Post#TTCTGTAAGTACT...  SU007_Total_Post   \n",
       "\n",
       "                                                              tissue  \\\n",
       "SU010_Total_Pre#SU010_Total_Pre#TACTGCCAGTTGAAT...   SU010_Total_Pre   \n",
       "SU010_Total_Pre#SU010_Total_Pre#AGCGATTAGAACTAA...   SU010_Total_Pre   \n",
       "SU010_Total_Pre#SU010_Total_Pre#GCCCGAAAGGCACCT...   SU010_Total_Pre   \n",
       "SU010_Total_Pre#SU010_Total_Pre#TCTCAGCCAGTTGGA...   SU010_Total_Pre   \n",
       "SU010_Total_Pre#SU010_Total_Pre#TATGTGGGTGAGGGT...   SU010_Total_Pre   \n",
       "...                                                              ...   \n",
       "SU007_Total_Post#SU007_Total_Post#GCACCTTCACTCG...  SU007_Total_Post   \n",
       "SU007_Total_Post#SU007_Total_Post#GCCTACTCATTCA...  SU007_Total_Post   \n",
       "SU007_Total_Post#SU007_Total_Post#AATGGAACAAGGT...  SU007_Total_Post   \n",
       "SU007_Total_Post#SU007_Total_Post#TACCTATAGTACG...  SU007_Total_Post   \n",
       "SU007_Total_Post#SU007_Total_Post#TTCTGTAAGTACT...  SU007_Total_Post   \n",
       "\n",
       "                                                             dataset CellType  \\\n",
       "SU010_Total_Pre#SU010_Total_Pre#TACTGCCAGTTGAAT...   SU010_Total_Pre      NaN   \n",
       "SU010_Total_Pre#SU010_Total_Pre#AGCGATTAGAACTAA...   SU010_Total_Pre      NaN   \n",
       "SU010_Total_Pre#SU010_Total_Pre#GCCCGAAAGGCACCT...   SU010_Total_Pre      NaN   \n",
       "SU010_Total_Pre#SU010_Total_Pre#TCTCAGCCAGTTGGA...   SU010_Total_Pre      NaN   \n",
       "SU010_Total_Pre#SU010_Total_Pre#TATGTGGGTGAGGGT...   SU010_Total_Pre      NaN   \n",
       "...                                                              ...      ...   \n",
       "SU007_Total_Post#SU007_Total_Post#GCACCTTCACTCG...  SU007_Total_Post      NaN   \n",
       "SU007_Total_Post#SU007_Total_Post#GCCTACTCATTCA...  SU007_Total_Post      NaN   \n",
       "SU007_Total_Post#SU007_Total_Post#AATGGAACAAGGT...  SU007_Total_Post      NaN   \n",
       "SU007_Total_Post#SU007_Total_Post#TACCTATAGTACG...  SU007_Total_Post      NaN   \n",
       "SU007_Total_Post#SU007_Total_Post#TTCTGTAAGTACT...  SU007_Total_Post      NaN   \n",
       "\n",
       "                                                   pred_GraphTransformer  \\\n",
       "SU010_Total_Pre#SU010_Total_Pre#TACTGCCAGTTGAAT...              Plasma B   \n",
       "SU010_Total_Pre#SU010_Total_Pre#AGCGATTAGAACTAA...          Memory CD8 T   \n",
       "SU010_Total_Pre#SU010_Total_Pre#GCCCGAAAGGCACCT...              Plasma B   \n",
       "SU010_Total_Pre#SU010_Total_Pre#TCTCAGCCAGTTGGA...          Memory CD8 T   \n",
       "SU010_Total_Pre#SU010_Total_Pre#TATGTGGGTGAGGGT...                   Th1   \n",
       "...                                                                  ...   \n",
       "SU007_Total_Post#SU007_Total_Post#GCACCTTCACTCG...           Naive CD4 T   \n",
       "SU007_Total_Post#SU007_Total_Post#GCCTACTCATTCA...           Naive CD4 T   \n",
       "SU007_Total_Post#SU007_Total_Post#AATGGAACAAGGT...          Memory CD8 T   \n",
       "SU007_Total_Post#SU007_Total_Post#TACCTATAGTACG...          Memory CD8 T   \n",
       "SU007_Total_Post#SU007_Total_Post#TTCTGTAAGTACT...          Memory CD8 T   \n",
       "\n",
       "                                                   batch    UMAP_1     UMAP_2  \\\n",
       "SU010_Total_Pre#SU010_Total_Pre#TACTGCCAGTTGAAT...     0 -3.741690  16.458853   \n",
       "SU010_Total_Pre#SU010_Total_Pre#AGCGATTAGAACTAA...     0 -5.042978   3.294526   \n",
       "SU010_Total_Pre#SU010_Total_Pre#GCCCGAAAGGCACCT...     0 -3.297045  16.337175   \n",
       "SU010_Total_Pre#SU010_Total_Pre#TCTCAGCCAGTTGGA...     0 -5.287196   1.745298   \n",
       "SU010_Total_Pre#SU010_Total_Pre#TATGTGGGTGAGGGT...     0 -4.390906   1.357552   \n",
       "...                                                  ...       ...        ...   \n",
       "SU007_Total_Post#SU007_Total_Post#GCACCTTCACTCG...     1  0.582895   0.034329   \n",
       "SU007_Total_Post#SU007_Total_Post#GCCTACTCATTCA...     1 -2.006158   1.166633   \n",
       "SU007_Total_Post#SU007_Total_Post#AATGGAACAAGGT...     1 -5.390166   1.350978   \n",
       "SU007_Total_Post#SU007_Total_Post#TACCTATAGTACG...     1 -4.832208   3.385367   \n",
       "SU007_Total_Post#SU007_Total_Post#TTCTGTAAGTACT...     1 -6.236699   4.539843   \n",
       "\n",
       "                                                     Clusters  \\\n",
       "SU010_Total_Pre#SU010_Total_Pre#TACTGCCAGTTGAAT...  Cluster13   \n",
       "SU010_Total_Pre#SU010_Total_Pre#AGCGATTAGAACTAA...   Cluster7   \n",
       "SU010_Total_Pre#SU010_Total_Pre#GCCCGAAAGGCACCT...  Cluster13   \n",
       "SU010_Total_Pre#SU010_Total_Pre#TCTCAGCCAGTTGGA...   Cluster7   \n",
       "SU010_Total_Pre#SU010_Total_Pre#TATGTGGGTGAGGGT...  Cluster10   \n",
       "...                                                       ...   \n",
       "SU007_Total_Post#SU007_Total_Post#GCACCTTCACTCG...   Cluster1   \n",
       "SU007_Total_Post#SU007_Total_Post#GCCTACTCATTCA...   Cluster5   \n",
       "SU007_Total_Post#SU007_Total_Post#AATGGAACAAGGT...   Cluster7   \n",
       "SU007_Total_Post#SU007_Total_Post#TACCTATAGTACG...   Cluster7   \n",
       "SU007_Total_Post#SU007_Total_Post#TTCTGTAAGTACT...   Cluster7   \n",
       "\n",
       "                                                               Group  depth  \\\n",
       "SU010_Total_Pre#SU010_Total_Pre#TACTGCCAGTTGAAT...   SU010_Total_Pre  22180   \n",
       "SU010_Total_Pre#SU010_Total_Pre#AGCGATTAGAACTAA...   SU010_Total_Pre  26713   \n",
       "SU010_Total_Pre#SU010_Total_Pre#GCCCGAAAGGCACCT...   SU010_Total_Pre  12510   \n",
       "SU010_Total_Pre#SU010_Total_Pre#TCTCAGCCAGTTGGA...   SU010_Total_Pre  26865   \n",
       "SU010_Total_Pre#SU010_Total_Pre#TATGTGGGTGAGGGT...   SU010_Total_Pre  14660   \n",
       "...                                                              ...    ...   \n",
       "SU007_Total_Post#SU007_Total_Post#GCACCTTCACTCG...  SU007_Total_Post   7646   \n",
       "SU007_Total_Post#SU007_Total_Post#GCCTACTCATTCA...  SU007_Total_Post   2480   \n",
       "SU007_Total_Post#SU007_Total_Post#AATGGAACAAGGT...  SU007_Total_Post   4456   \n",
       "SU007_Total_Post#SU007_Total_Post#TACCTATAGTACG...  SU007_Total_Post   3617   \n",
       "SU007_Total_Post#SU007_Total_Post#TTCTGTAAGTACT...  SU007_Total_Post   2556   \n",
       "\n",
       "                                                        FRIP  \\\n",
       "SU010_Total_Pre#SU010_Total_Pre#TACTGCCAGTTGAAT...  0.629306   \n",
       "SU010_Total_Pre#SU010_Total_Pre#AGCGATTAGAACTAA...  0.645416   \n",
       "SU010_Total_Pre#SU010_Total_Pre#GCCCGAAAGGCACCT...  0.385012   \n",
       "SU010_Total_Pre#SU010_Total_Pre#TCTCAGCCAGTTGGA...  0.630430   \n",
       "SU010_Total_Pre#SU010_Total_Pre#TATGTGGGTGAGGGT...  0.279775   \n",
       "...                                                      ...   \n",
       "SU007_Total_Post#SU007_Total_Post#GCACCTTCACTCG...  0.669173   \n",
       "SU007_Total_Post#SU007_Total_Post#GCCTACTCATTCA...  0.653629   \n",
       "SU007_Total_Post#SU007_Total_Post#AATGGAACAAGGT...  0.638241   \n",
       "SU007_Total_Post#SU007_Total_Post#TACCTATAGTACG...  0.686342   \n",
       "SU007_Total_Post#SU007_Total_Post#TTCTGTAAGTACT...  0.699531   \n",
       "\n",
       "                                                              Barcodes  \\\n",
       "SU010_Total_Pre#SU010_Total_Pre#TACTGCCAGTTGAAT...  TACTGCCAGTTGAATG-1   \n",
       "SU010_Total_Pre#SU010_Total_Pre#AGCGATTAGAACTAA...  AGCGATTAGAACTAAC-1   \n",
       "SU010_Total_Pre#SU010_Total_Pre#GCCCGAAAGGCACCT...  GCCCGAAAGGCACCTC-1   \n",
       "SU010_Total_Pre#SU010_Total_Pre#TCTCAGCCAGTTGGA...  TCTCAGCCAGTTGGAG-1   \n",
       "SU010_Total_Pre#SU010_Total_Pre#TATGTGGGTGAGGGT...  TATGTGGGTGAGGGTT-1   \n",
       "...                                                                ...   \n",
       "SU007_Total_Post#SU007_Total_Post#GCACCTTCACTCG...  GCACCTTCACTCGGAC-1   \n",
       "SU007_Total_Post#SU007_Total_Post#GCCTACTCATTCA...  GCCTACTCATTCACGA-1   \n",
       "SU007_Total_Post#SU007_Total_Post#AATGGAACAAGGT...  AATGGAACAAGGTCGA-1   \n",
       "SU007_Total_Post#SU007_Total_Post#TACCTATAGTACG...  TACCTATAGTACGACG-1   \n",
       "SU007_Total_Post#SU007_Total_Post#TTCTGTAAGTACT...  TTCTGTAAGTACTCTG-1   \n",
       "\n",
       "                                                           Internal_Name  \\\n",
       "SU010_Total_Pre#SU010_Total_Pre#TACTGCCAGTTGAAT...   SU010_Total_Pre_824   \n",
       "SU010_Total_Pre#SU010_Total_Pre#AGCGATTAGAACTAA...     SU010_Total_Pre_4   \n",
       "SU010_Total_Pre#SU010_Total_Pre#GCCCGAAAGGCACCT...   SU010_Total_Pre_843   \n",
       "SU010_Total_Pre#SU010_Total_Pre#TCTCAGCCAGTTGGA...    SU010_Total_Pre_77   \n",
       "SU010_Total_Pre#SU010_Total_Pre#TATGTGGGTGAGGGT...   SU010_Total_Pre_203   \n",
       "...                                                                  ...   \n",
       "SU007_Total_Post#SU007_Total_Post#GCACCTTCACTCG...  SU007_Total_Post_657   \n",
       "SU007_Total_Post#SU007_Total_Post#GCCTACTCATTCA...  SU007_Total_Post_628   \n",
       "SU007_Total_Post#SU007_Total_Post#AATGGAACAAGGT...  SU007_Total_Post_660   \n",
       "SU007_Total_Post#SU007_Total_Post#TACCTATAGTACG...  SU007_Total_Post_661   \n",
       "SU007_Total_Post#SU007_Total_Post#TTCTGTAAGTACT...  SU007_Total_Post_666   \n",
       "\n",
       "                                                                          Group_Barcode  \\\n",
       "SU010_Total_Pre#SU010_Total_Pre#TACTGCCAGTTGAAT...   SU010_Total_Pre#TACTGCCAGTTGAATG-1   \n",
       "SU010_Total_Pre#SU010_Total_Pre#AGCGATTAGAACTAA...   SU010_Total_Pre#AGCGATTAGAACTAAC-1   \n",
       "SU010_Total_Pre#SU010_Total_Pre#GCCCGAAAGGCACCT...   SU010_Total_Pre#GCCCGAAAGGCACCTC-1   \n",
       "SU010_Total_Pre#SU010_Total_Pre#TCTCAGCCAGTTGGA...   SU010_Total_Pre#TCTCAGCCAGTTGGAG-1   \n",
       "SU010_Total_Pre#SU010_Total_Pre#TATGTGGGTGAGGGT...   SU010_Total_Pre#TATGTGGGTGAGGGTT-1   \n",
       "...                                                                                 ...   \n",
       "SU007_Total_Post#SU007_Total_Post#GCACCTTCACTCG...  SU007_Total_Post#GCACCTTCACTCGGAC-1   \n",
       "SU007_Total_Post#SU007_Total_Post#GCCTACTCATTCA...  SU007_Total_Post#GCCTACTCATTCACGA-1   \n",
       "SU007_Total_Post#SU007_Total_Post#AATGGAACAAGGT...  SU007_Total_Post#AATGGAACAAGGTCGA-1   \n",
       "SU007_Total_Post#SU007_Total_Post#TACCTATAGTACG...  SU007_Total_Post#TACCTATAGTACGACG-1   \n",
       "SU007_Total_Post#SU007_Total_Post#TTCTGTAAGTACT...  SU007_Total_Post#TTCTGTAAGTACTCTG-1   \n",
       "\n",
       "                                                      true_label  \n",
       "SU010_Total_Pre#SU010_Total_Pre#TACTGCCAGTTGAAT...      Plasma B  \n",
       "SU010_Total_Pre#SU010_Total_Pre#AGCGATTAGAACTAA...  Memory CD8 T  \n",
       "SU010_Total_Pre#SU010_Total_Pre#GCCCGAAAGGCACCT...      Plasma B  \n",
       "SU010_Total_Pre#SU010_Total_Pre#TCTCAGCCAGTTGGA...  Memory CD8 T  \n",
       "SU010_Total_Pre#SU010_Total_Pre#TATGTGGGTGAGGGT...           NK1  \n",
       "...                                                          ...  \n",
       "SU007_Total_Post#SU007_Total_Post#GCACCTTCACTCG...   Naive CD4 T  \n",
       "SU007_Total_Post#SU007_Total_Post#GCCTACTCATTCA...   Naive CD8 T  \n",
       "SU007_Total_Post#SU007_Total_Post#AATGGAACAAGGT...  Memory CD8 T  \n",
       "SU007_Total_Post#SU007_Total_Post#TACCTATAGTACG...  Memory CD8 T  \n",
       "SU007_Total_Post#SU007_Total_Post#TTCTGTAAGTACT...  Memory CD8 T  \n",
       "\n",
       "[806 rows x 16 columns]"
      ]
     },
     "execution_count": 32,
     "metadata": {},
     "output_type": "execute_result"
    }
   ],
   "source": [
    "projection_allcells = pd.read_table(\"data/BCC_samples/BCC_study_metadata.csv\", index_col = 0, sep = \",\")\n",
    "projection_allcells.index = [projection_allcells.loc[i,\"Group\"] + \"#\" + i for i in projection_allcells.index]\n",
    "projection_allcells[\"true_label\"] = [i.strip() for i in projection_allcells[\"true_label\"]]\n",
    "sample_names = [\"SU010_Total_Pre\", \"SU007_Total_Post\"]\n",
    "projection = projection_allcells[projection_allcells[\"Group\"].isin(sample_names)]\n",
    "query.obs = pd.merge(query.obs, projection, left_index=True, right_index=True)\n",
    "query.obs"
   ]
  },
  {
   "cell_type": "code",
   "execution_count": 33,
   "id": "174a3f2a",
   "metadata": {},
   "outputs": [],
   "source": [
    "query.obsm[\"X_umap\"] = np.array(query.obs[[\"UMAP_1\", \"UMAP_2\"]])\n",
    "query.obs[\"pred_y_unknown\"] = np.array(query.obs[\"pred_GraphTransformer\"].values)\n",
    "query_annotated = cluster_assign(query, use_rep = \"X\", cluster_col = \"Clusters\", UMAP=False)"
   ]
  },
  {
   "cell_type": "code",
   "execution_count": 34,
   "id": "91b39e30",
   "metadata": {},
   "outputs": [
    {
     "data": {
      "text/plain": [
       "<Figure size 7200x4800 with 0 Axes>"
      ]
     },
     "metadata": {},
     "output_type": "display_data"
    },
    {
     "data": {
      "image/png": "[encoded data removed]",
      "text/plain": [
       "<Figure size 432x288 with 1 Axes>"
      ]
     },
     "metadata": {},
     "output_type": "display_data"
    }
   ],
   "source": [
    "plt.figure(dpi=1200)\n",
    "sc.pl.umap(query_annotated, color = \"cluster_annotation\", title=\"\", legend_loc = \"on data\")"
   ]
  },
  {
   "cell_type": "code",
   "execution_count": 35,
   "id": "9e88d049",
   "metadata": {},
   "outputs": [
    {
     "data": {
      "text/plain": [
       "<Figure size 7200x4800 with 0 Axes>"
      ]
     },
     "metadata": {},
     "output_type": "display_data"
    },
    {
     "data": {
      "image/png": "[encoded data removed]",
      "text/plain": [
       "<Figure size 432x432 with 1 Axes>"
      ]
     },
     "metadata": {
      "needs_background": "light"
     },
     "output_type": "display_data"
    }
   ],
   "source": [
    "from pySankey.sankey import sankey\n",
    "\n",
    "pred_col = 'cluster_annotation'\n",
    "true_col = 'true_label'\n",
    "\n",
    "plt.rcParams['font.weight'] = \"heavy\"\n",
    "plt.figure(dpi=1200)\n",
    "sankey(\n",
    "    query_annotated.obs[pred_col], query_annotated.obs[true_col], aspect=10,\n",
    "    fontsize=10\n",
    "    )"
   ]
  }
 ],
 "metadata": {
  "kernelspec": {
   "display_name": "Python 3 (ipykernel)",
   "language": "python",
   "name": "python3"
  },
  "language_info": {
   "codemirror_mode": {
    "name": "ipython",
    "version": 3
   },
   "file_extension": ".py",
   "mimetype": "text/x-python",
   "name": "python",
   "nbconvert_exporter": "python",
   "pygments_lexer": "ipython3",
   "version": "3.8.16"
  }
 },
 "nbformat": 4,
 "nbformat_minor": 5
}
