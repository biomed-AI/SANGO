{
 "cells": [
  {
   "cell_type": "code",
   "execution_count": 1,
   "id": "74de9d3e-148d-41bc-810b-ac0b0d88ee0c",
   "metadata": {},
   "outputs": [
    {
     "name": "stdout",
     "output_type": "stream",
     "text": [
      "AnnData object with n_obs × n_vars = 81173 × 436206\n",
      "    obs: 'cell', 'tissue', 'tissue.replicate', 'cluster', 'subset_cluster', 'tsne_1', 'tsne_2', 'subset_tsne1', 'subset_tsne2', 'id', 'cell_label', 'Batch', 'CellType'\n",
      "    var: 'chrom', 'chromStart', 'chromEnd'\n"
     ]
    },
    {
     "name": "stderr",
     "output_type": "stream",
     "text": [
      "/tmp/ipykernel_1103999/3702523710.py:7: ImplicitModificationWarning: Trying to modify attribute `.obs` of view, initializing view as actual.\n",
      "  adata_BoneMarrowB.obs[\"Batch\"] = [\"reference\"] * adata_BoneMarrowB.shape[0]\n",
      "/tmp/ipykernel_1103999/3702523710.py:10: ImplicitModificationWarning: Trying to modify attribute `.obs` of view, initializing view as actual.\n",
      "  adata_Liver.obs[\"Batch\"] = [\"query\"] * adata_Liver.shape[0]\n",
      "/data/user/luomai/anaconda3/envs/SANGO/lib/python3.8/site-packages/anndata/_core/anndata.py:1763: FutureWarning: The AnnData.concatenate method is deprecated in favour of the anndata.concat function. Please use anndata.concat instead.\n",
      "\n",
      "See the tutorial for concat at: https://anndata.readthedocs.io/en/latest/concatenation.html\n",
      "  warnings.warn(\n"
     ]
    },
    {
     "name": "stdout",
     "output_type": "stream",
     "text": [
      "AnnData object with n_obs × n_vars = 10537 × 436206\n",
      "    obs: 'cell', 'tissue', 'tissue.replicate', 'cluster', 'subset_cluster', 'tsne_1', 'tsne_2', 'subset_tsne1', 'subset_tsne2', 'id', 'cell_label', 'Batch', 'CellType', 'batch'\n",
      "    var: 'chrom', 'chromStart', 'chromEnd'\n",
      "AGCGATAGAACGCGCAGAAGCTTATAGGATAGAGGC-0    reference\n",
      "AGCGATAGAACGCGCAGAGATTAGATGAGGCTCTGA-0    reference\n",
      "AGCGATAGAACGCGCAGATGGCGTAGAAGGCTCTGA-0    reference\n",
      "AGCGATAGAACGCGCAGATGGCGTAGAATAATCTTA-0    reference\n",
      "AGCGATAGAACGCGCAGATTCAGCTTGGGTACTGAC-0    reference\n",
      "                                            ...    \n",
      "AGCGATAGTATAATAGTTGTCAAGTCCATATAGCCT-1        query\n",
      "TCCGGAGATTCCGTCGACGTCAAGTCCAGGCTCTGA-1        query\n",
      "ATTCAGAAGCTAACGGATGATTACCGGACAGGACGT-1        query\n",
      "ATTCAGAAGTACTCCTATGAGATGCATGCAGGACGT-1        query\n",
      "AGCGATAGTCGCCGCCGGTCGTAACGGTTATAGCCT-1        query\n",
      "Name: Batch, Length: 10537, dtype: object\n"
     ]
    }
   ],
   "source": [
    "import scanpy as sc\n",
    "\n",
    "adata = sc.read_h5ad(\"data/raw_mouse_brain.h5ad\")\n",
    "print(adata)\n",
    "\n",
    "adata_BoneMarrowB = adata[adata.obs[\"Batch\"] == \"BoneMarrow_62216\"]\n",
    "adata_BoneMarrowB.obs[\"Batch\"] = [\"reference\"] * adata_BoneMarrowB.shape[0]\n",
    "\n",
    "adata_Liver = adata[adata.obs[\"Batch\"] == \"Liver_62016\"]\n",
    "adata_Liver.obs[\"Batch\"] = [\"query\"] * adata_Liver.shape[0]\n",
    "\n",
    "concat_adata = sc.AnnData.concatenate(adata_BoneMarrowB, adata_Liver)\n",
    "print(concat_adata)\n",
    "print(concat_adata.obs[\"Batch\"])"
   ]
  },
  {
   "cell_type": "code",
   "execution_count": 2,
   "id": "e24430bb-7e03-4029-b629-135d4e448055",
   "metadata": {},
   "outputs": [],
   "source": [
    "concat_adata.write(\"data/reference_query_example.h5ad\")"
   ]
  }
 ],
 "metadata": {
  "kernelspec": {
   "display_name": "Python 3 (ipykernel)",
   "language": "python",
   "name": "python3"
  },
  "language_info": {
   "codemirror_mode": {
    "name": "ipython",
    "version": 3
   },
   "file_extension": ".py",
   "mimetype": "text/x-python",
   "name": "python",
   "nbconvert_exporter": "python",
   "pygments_lexer": "ipython3",
   "version": "3.8.17"
  }
 },
 "nbformat": 4,
 "nbformat_minor": 5
}
