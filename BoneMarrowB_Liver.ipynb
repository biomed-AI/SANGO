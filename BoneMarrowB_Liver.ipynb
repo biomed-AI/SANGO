{
 "cells": [
  {
   "cell_type": "markdown",
   "id": "ff98af35",
   "metadata": {},
   "source": [
    "## Data preprocessing"
   ]
  },
  {
   "cell_type": "code",
   "execution_count": 1,
   "id": "93b1e525",
   "metadata": {},
   "outputs": [],
   "source": [
    "import scanpy as sc\n",
    "import pandas as pd\n",
    "import numpy as np"
   ]
  },
  {
   "cell_type": "code",
   "execution_count": 2,
   "id": "5c57407a",
   "metadata": {},
   "outputs": [],
   "source": [
    "def make_anndata(adata, chrom, start, end, path):\n",
    "    adata.var['chr'] = chrom\n",
    "    adata.var['start'] = start\n",
    "    adata.var['end'] = end\n",
    "    \n",
    "    sc.pp.filter_cells(adata, min_genes=0)\n",
    "    sc.pp.filter_genes(adata, min_cells=0)\n",
    "    \n",
    "    thres = int(adata.shape[0]*0.01)\n",
    "    adata = adata[:, adata.var['n_cells']>thres]\n",
    "\n",
    "    chrs = ['chr'+str(i) for i in range(1,23)] + ['chrX', 'chrY']\n",
    "    adata = adata[:, adata.var['chr'].isin(chrs)]\n",
    "    \n",
    "    print(adata)\n",
    "    adata.write(path)\n",
    "    return adata"
   ]
  },
  {
   "cell_type": "code",
   "execution_count": 3,
   "id": "1542838f",
   "metadata": {},
   "outputs": [
    {
     "data": {
      "text/plain": [
       "array(['BoneMarrow_62016', 'BoneMarrow_62216', 'Cerebellum_62216',\n",
       "       'HeartA_62816', 'Kidney_62016', 'LargeIntestineA_62816',\n",
       "       'LargeIntestineB_62816', 'Liver_62016', 'Lung1_62216',\n",
       "       'Lung2_62216', 'PreFrontalCortex_62216', 'SmallIntestine_62816',\n",
       "       'Spleen_62016', 'Testes_62016', 'Thymus_62016',\n",
       "       'WholeBrainA_62216', 'WholeBrainA_62816'], dtype=object)"
      ]
     },
     "execution_count": 3,
     "metadata": {},
     "output_type": "execute_result"
    }
   ],
   "source": [
    "adata = sc.read_h5ad(\"data/raw_mouse_brain.h5ad\")\n",
    "np.unique(adata.obs[\"Batch\"])"
   ]
  },
  {
   "cell_type": "code",
   "execution_count": 4,
   "id": "b69f6848",
   "metadata": {},
   "outputs": [
    {
     "name": "stderr",
     "output_type": "stream",
     "text": [
      "/data/user/luomai/anaconda3/envs/nodeformer/lib/python3.8/site-packages/anndata/_core/anndata.py:1755: FutureWarning: The AnnData.concatenate method is deprecated in favour of the anndata.concat function. Please use anndata.concat instead.\n",
      "\n",
      "See the tutorial for concat at: https://anndata.readthedocs.io/en/latest/concatenation.html\n",
      "  warnings.warn(\n"
     ]
    },
    {
     "name": "stdout",
     "output_type": "stream",
     "text": [
      "AnnData object with n_obs × n_vars = 10537 × 436206\n",
      "    obs: 'cell', 'tissue', 'tissue.replicate', 'cluster', 'subset_cluster', 'tsne_1', 'tsne_2', 'subset_tsne1', 'subset_tsne2', 'id', 'cell_label', 'Batch', 'CellType', 'batch'\n",
      "    var: 'chrom', 'chromStart', 'chromEnd'\n",
      "View of AnnData object with n_obs × n_vars = 10537 × 99915\n",
      "    obs: 'cell', 'tissue', 'tissue.replicate', 'cluster', 'subset_cluster', 'tsne_1', 'tsne_2', 'subset_tsne1', 'subset_tsne2', 'id', 'cell_label', 'Batch', 'CellType', 'batch', 'n_genes'\n",
      "    var: 'chrom', 'chromStart', 'chromEnd', 'chr', 'start', 'end', 'n_cells'\n"
     ]
    }
   ],
   "source": [
    "adata_BoneMarrowB = adata[adata.obs[\"Batch\"] == \"BoneMarrow_62216\"]\n",
    "adata_Liver = adata[adata.obs[\"Batch\"] == \"Liver_62016\"]\n",
    "\n",
    "concat_adata = sc.AnnData.concatenate(adata_BoneMarrowB, adata_Liver)\n",
    "print(concat_adata)\n",
    "\n",
    "concat_adata = make_anndata(\n",
    "    concat_adata,\n",
    "    concat_adata.var[\"chrom\"],\n",
    "    concat_adata.var[\"chromStart\"],\n",
    "    concat_adata.var[\"chromEnd\"],\n",
    "    \"preprocessed_data/BoneMarrowB_liver.h5ad\",\n",
    ")"
   ]
  },
  {
   "cell_type": "markdown",
   "id": "f6a9ab30",
   "metadata": {},
   "source": [
    "## Run CACNN"
   ]
  },
  {
   "cell_type": "code",
   "execution_count": 1,
   "id": "72c37382",
   "metadata": {},
   "outputs": [
    {
     "name": "stdout",
     "output_type": "stream",
     "text": [
      "/data/user/luomai/SANGO/CACNN\n"
     ]
    }
   ],
   "source": [
    "%cd CACNN"
   ]
  },
  {
   "cell_type": "code",
   "execution_count": 2,
   "id": "896bca40",
   "metadata": {},
   "outputs": [
    {
     "name": "stdout",
     "output_type": "stream",
     "text": [
      "/data/user/luomai/SANGO/CACNN/utils.py:178: UserWarning: log ../output/BoneMarrowB_liver/CACNN_train.log exists, moved to to ../output/BoneMarrowB_liver/CACNN_train.log.conflict_20230926-140320.log\n",
      "  warnings.warn(\"log {} exists, moved to to {}.conflict_{}.log\".format(filename, filename, suffix))\n",
      "INFO(20230926 14:04:31) [main.py:70]:\n",
      "##time: Tue Sep 26 14:04:31 2023\n",
      "##cwd: /data/user/luomai/SANGO/CACNN\n",
      "##cmd: main.py -i ../preprocessed_data/BoneMarrowB_liver.h5ad -z 64 -g mm9 -o ../output/BoneMarrowB_liver --max_epoch 300 --device 3\n",
      "##args: Namespace(alpha=0.0, batch_size=128, data='../preprocessed_data/BoneMarrowB_liver.h5ad', device=3, g='mm9', lr=0.01, max_epoch=300, num_workers=32, outdir='../output/BoneMarrowB_liver', seed=2020, seq_len=1344, use_reg_cell=False, w=False, z=64)\n",
      "INFO(20230926 14:04:35) [main.py:107]:CACNN(\n",
      "  (pre_conv): Sequential(\n",
      "    (0): Conv1d(4, 288, kernel_size=(17,), stride=(1,), padding=(8,))\n",
      "    (1): BatchNorm1d(288, eps=1e-05, momentum=0.1, affine=True, track_running_stats=True)\n",
      "    (2): MaxPool1d(kernel_size=3, stride=3, padding=0, dilation=1, ceil_mode=False)\n",
      "    (3): ReLU()\n",
      "  )\n",
      "  (conv_towers): Sequential(\n",
      "    (0): ConvTower(\n",
      "      (conv1): Conv1d(288, 64, kernel_size=(5,), stride=(1,), padding=(2,), bias=False)\n",
      "      (bn1): BatchNorm1d(64, eps=1e-05, momentum=0.1, affine=True, track_running_stats=True)\n",
      "      (relu): ReLU()\n",
      "      (conv2): Conv1d(64, 64, kernel_size=(5,), stride=(1,), padding=(2,), bias=False)\n",
      "      (bn2): BatchNorm1d(64, eps=1e-05, momentum=0.1, affine=True, track_running_stats=True)\n",
      "      (eca): eca_layer(\n",
      "        (avg_pool): AdaptiveAvgPool1d(output_size=1)\n",
      "        (conv): Conv1d(1, 1, kernel_size=(3,), stride=(1,), padding=(1,), bias=False)\n",
      "        (sigmoid): Sigmoid()\n",
      "      )\n",
      "      (maxpool): MaxPool1d(kernel_size=2, stride=2, padding=0, dilation=1, ceil_mode=False)\n",
      "      (downsample): Sequential(\n",
      "        (0): Conv1d(288, 64, kernel_size=(1,), stride=(1,), bias=False)\n",
      "        (1): BatchNorm1d(64, eps=1e-05, momentum=0.1, affine=True, track_running_stats=True)\n",
      "      )\n",
      "    )\n",
      "    (1): ConvTower(\n",
      "      (conv1): Conv1d(64, 128, kernel_size=(5,), stride=(1,), padding=(2,), bias=False)\n",
      "      (bn1): BatchNorm1d(128, eps=1e-05, momentum=0.1, affine=True, track_running_stats=True)\n",
      "      (relu): ReLU()\n",
      "      (conv2): Conv1d(128, 128, kernel_size=(5,), stride=(1,), padding=(2,), bias=False)\n",
      "      (bn2): BatchNorm1d(128, eps=1e-05, momentum=0.1, affine=True, track_running_stats=True)\n",
      "      (eca): eca_layer(\n",
      "        (avg_pool): AdaptiveAvgPool1d(output_size=1)\n",
      "        (conv): Conv1d(1, 1, kernel_size=(5,), stride=(1,), padding=(2,), bias=False)\n",
      "        (sigmoid): Sigmoid()\n",
      "      )\n",
      "      (maxpool): MaxPool1d(kernel_size=2, stride=2, padding=0, dilation=1, ceil_mode=False)\n",
      "      (downsample): Sequential(\n",
      "        (0): Conv1d(64, 128, kernel_size=(1,), stride=(1,), bias=False)\n",
      "        (1): BatchNorm1d(128, eps=1e-05, momentum=0.1, affine=True, track_running_stats=True)\n",
      "      )\n",
      "    )\n",
      "    (2): ConvTower(\n",
      "      (conv1): Conv1d(128, 256, kernel_size=(5,), stride=(1,), padding=(2,), bias=False)\n",
      "      (bn1): BatchNorm1d(256, eps=1e-05, momentum=0.1, affine=True, track_running_stats=True)\n",
      "      (relu): ReLU()\n",
      "      (conv2): Conv1d(256, 256, kernel_size=(5,), stride=(1,), padding=(2,), bias=False)\n",
      "      (bn2): BatchNorm1d(256, eps=1e-05, momentum=0.1, affine=True, track_running_stats=True)\n",
      "      (eca): eca_layer(\n",
      "        (avg_pool): AdaptiveAvgPool1d(output_size=1)\n",
      "        (conv): Conv1d(1, 1, kernel_size=(5,), stride=(1,), padding=(2,), bias=False)\n",
      "        (sigmoid): Sigmoid()\n",
      "      )\n",
      "      (maxpool): MaxPool1d(kernel_size=2, stride=2, padding=0, dilation=1, ceil_mode=False)\n",
      "      (downsample): Sequential(\n",
      "        (0): Conv1d(128, 256, kernel_size=(1,), stride=(1,), bias=False)\n",
      "        (1): BatchNorm1d(256, eps=1e-05, momentum=0.1, affine=True, track_running_stats=True)\n",
      "      )\n",
      "    )\n",
      "    (3): ConvTower(\n",
      "      (conv1): Conv1d(256, 512, kernel_size=(5,), stride=(1,), padding=(2,), bias=False)\n",
      "      (bn1): BatchNorm1d(512, eps=1e-05, momentum=0.1, affine=True, track_running_stats=True)\n",
      "      (relu): ReLU()\n",
      "      (conv2): Conv1d(512, 512, kernel_size=(5,), stride=(1,), padding=(2,), bias=False)\n",
      "      (bn2): BatchNorm1d(512, eps=1e-05, momentum=0.1, affine=True, track_running_stats=True)\n",
      "      (eca): eca_layer(\n",
      "        (avg_pool): AdaptiveAvgPool1d(output_size=1)\n",
      "        (conv): Conv1d(1, 1, kernel_size=(5,), stride=(1,), padding=(2,), bias=False)\n",
      "        (sigmoid): Sigmoid()\n",
      "      )\n",
      "      (maxpool): MaxPool1d(kernel_size=2, stride=2, padding=0, dilation=1, ceil_mode=False)\n",
      "      (downsample): Sequential(\n",
      "        (0): Conv1d(256, 512, kernel_size=(1,), stride=(1,), bias=False)\n",
      "        (1): BatchNorm1d(512, eps=1e-05, momentum=0.1, affine=True, track_running_stats=True)\n",
      "      )\n",
      "    )\n",
      "  )\n",
      "  (post_conv): Sequential(\n",
      "    (0): Conv1d(512, 256, kernel_size=(1,), stride=(1,))\n",
      "    (1): BatchNorm1d(256, eps=1e-05, momentum=0.1, affine=True, track_running_stats=True)\n",
      "    (2): ReLU()\n",
      "  )\n",
      "  (flatten): Flatten(start_dim=1, end_dim=-1)\n",
      "  (dense): Sequential(\n",
      "    (0): Linear(in_features=7168, out_features=64, bias=True)\n",
      "    (1): BatchNorm1d(64, eps=1e-05, momentum=0.1, affine=True, track_running_stats=True)\n",
      "    (2): ReLU()\n",
      "    (3): Dropout(p=0.2, inplace=False)\n",
      "  )\n",
      "  (cell_embedding): Linear(in_features=64, out_features=10537, bias=True)\n",
      ")\n",
      "{'total_param': 4185523, 'trainable_param': 4185499}\n",
      "Adam (\n",
      "Parameter Group 0\n",
      "    amsgrad: False\n",
      "    betas: (0.95, 0.9995)\n",
      "    capturable: False\n",
      "    differentiable: False\n",
      "    eps: 1e-08\n",
      "    foreach: None\n",
      "    fused: False\n",
      "    lr: 0.01\n",
      "    maximize: False\n",
      "    weight_decay: 0\n",
      ")\n",
      "\n",
      "Epoch 1/300: 100%|██| 780/780 [01:13<00:00, 10.62it/s, loss/lr=0.1302/1.000e-02]\n",
      "100%|███████████████████████████████████████████| 16/16 [00:03<00:00,  4.79it/s]\n",
      "Calculating AP: 100%|██████████████████████| 2000/2000 [00:05<00:00, 346.47it/s]\n",
      "INFO(20230926 14:05:58) [main.py:146]:Validation1 AUC=0.7731/0.0714\n",
      "INFO(20230926 14:05:58) [main.py:153]:Epoch 1: best model saved\n",
      "\n",
      "Epoch 2/300: 100%|██| 780/780 [01:13<00:00, 10.59it/s, loss/lr=0.1302/1.000e-02]\n",
      "100%|███████████████████████████████████████████| 16/16 [00:03<00:00,  4.99it/s]\n",
      "Calculating AP: 100%|██████████████████████| 2000/2000 [00:06<00:00, 329.76it/s]\n",
      "INFO(20230926 14:07:21) [main.py:146]:Validation2 AUC=0.7747/0.0696\n",
      "INFO(20230926 14:07:21) [main.py:153]:Epoch 2: best model saved\n",
      "\n",
      "Epoch 3/300: 100%|██| 780/780 [01:08<00:00, 11.32it/s, loss/lr=0.1301/1.000e-02]\n",
      "100%|███████████████████████████████████████████| 16/16 [00:03<00:00,  5.33it/s]\n",
      "Calculating AP: 100%|██████████████████████| 2000/2000 [00:05<00:00, 346.76it/s]\n",
      "INFO(20230926 14:08:39) [main.py:146]:Validation3 AUC=0.7765/0.0663\n",
      "INFO(20230926 14:08:39) [main.py:153]:Epoch 3: best model saved\n",
      "\n",
      "Epoch 4/300:  71%|█▍| 552/780 [00:49<00:18, 12.25it/s, loss/lr=0.1296/1.000e-02]"
     ]
    }
   ],
   "source": [
    "!python main.py -i ../preprocessed_data/BoneMarrowB_liver.h5ad \\\n",
    "                -z 64 \\\n",
    "                -g mm9 \\\n",
    "                -o ../output/BoneMarrowB_liver \\\n",
    "                --max_epoch 300 \\\n",
    "                --device 3"
   ]
  },
  {
   "cell_type": "markdown",
   "id": "d6289482",
   "metadata": {},
   "source": [
    "## Run GraphTransFormer"
   ]
  },
  {
   "cell_type": "code",
   "execution_count": 7,
   "id": "672bf4e9",
   "metadata": {},
   "outputs": [
    {
     "name": "stdout",
     "output_type": "stream",
     "text": [
      "/data/user/luomai/SANGO/GraphTransformer\n"
     ]
    }
   ],
   "source": [
    "%cd ../GraphTransformer"
   ]
  },
  {
   "cell_type": "code",
   "execution_count": 8,
   "id": "5b769e1f",
   "metadata": {},
   "outputs": [
    {
     "name": "stdout",
     "output_type": "stream",
     "text": [
      "python: can't open file 'main.py': [Errno 2] No such file or directory\r\n"
     ]
    }
   ],
   "source": [
    "!python main.py --use_bn \\\n",
    "                --use_residual \\\n",
    "                --use_gumbel \\\n",
    "                --data_dir ../output/BoneMarrowB_liver/CACNN_output.h5ad \\\n",
    "                --train_name_list BoneMarrow_62216 --test_name Liver_62016 \\\n",
    "                --save_path ../output \\\n",
    "                --save_name BoneMarrowB_liver \\\n",
    "                --device 0"
   ]
  }
 ],
 "metadata": {
  "kernelspec": {
   "display_name": "Python 3 (ipykernel)",
   "language": "python",
   "name": "python3"
  },
  "language_info": {
   "codemirror_mode": {
    "name": "ipython",
    "version": 3
   },
   "file_extension": ".py",
   "mimetype": "text/x-python",
   "name": "python",
   "nbconvert_exporter": "python",
   "pygments_lexer": "ipython3",
   "version": "3.8.16"
  }
 },
 "nbformat": 4,
 "nbformat_minor": 5
}
